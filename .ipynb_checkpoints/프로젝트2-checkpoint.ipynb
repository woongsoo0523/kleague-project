{
 "cells": [
  {
   "cell_type": "code",
   "execution_count": 5,
   "id": "c064cc46",
   "metadata": {
    "scrolled": false
   },
   "outputs": [],
   "source": [
    "from selenium.webdriver import Chrome\n",
    "from selenium.webdriver.common.by import By\n",
    "from selenium.webdriver.common.keys import Keys\n",
    "from bs4 import BeautifulSoup\n",
    "import time\n",
    "import re\n",
    "import requests\n",
    "import csv\n",
    "\n",
    "\n",
    "chrome = Chrome()\n",
    "\n",
    "\n",
    "# url로 이동하기\n",
    "suwon_list=[1,7,13,24,30,34,41,48,52,59,63,70,77,84,87,91,99,104,113,119,125,130,137,140,150,154,160,167,169,177,184,187,193,203,210,214,218,223] # gameid 검색\n",
    "rounder = [1,2,3,4,5,6,7,8,9,10,11,12,13,14,15,16,17,18,19,20,21,22,23,24,25,26,27,28,29,30,31,32,33,34,35,36,37,38]\n",
    "def url_move(suwon_list):\n",
    "    time.sleep(1)\n",
    "    url = f\"https://www.kleague.com/match.do?year=2022&leagueId=1&gameId={suwon_list}&meetSeq=1&startTabNum=1\" # 수원FC \n",
    "    chrome.get(url)\n",
    "# 점수(스코어)\n",
    "def home_score():\n",
    "    score = chrome.find_element(by='xpath',value='//*[@id=\"matchInfoArea\"]')\n",
    "    return score.text[0:1]\n",
    "def away_score():\n",
    "    score = chrome.find_element(by='xpath',value='//*[@id=\"matchInfoArea\"]')\n",
    "    return score.text[2:3]\n",
    "\n",
    "# home팀 주요기록 \n",
    "def home_record():\n",
    "    li=[]\n",
    "    for i in range(1,11):\n",
    "        myform = chrome.find_element(by='xpath',value=f'//*[@id=\"matchRecordArea\"]/li[{i}]/div[2]')\n",
    "        li.append(myform.text)\n",
    "    return li\n",
    "    \n",
    "# away팀 주요기록   \n",
    "def away_record():\n",
    "    li2=[]\n",
    "    for i in range(1,11):\n",
    "        myform = chrome.find_element(by='xpath',value=f'//*[@id=\"matchRecordArea\"]/li[{i}]/div[4]')\n",
    "        li2.append(myform.text)\n",
    "    return li2\n",
    "    \n",
    "# 전제 평점 출력\n",
    "def avg(myforms):\n",
    "    result = 0\n",
    "    result2 = 0\n",
    "    for i in range(len(myforms)):\n",
    "        if i <= 11:\n",
    "            result += float(myforms[i][0:3])\n",
    "        else:\n",
    "            result2 +=float(myforms[i][0:3])\n",
    "    avg = result/11\n",
    "    avg2 = result2/11\n",
    "    return round(avg,2),round(avg2,2)\n",
    "def myformAvg():\n",
    "    btn = chrome.find_element(by = 'xpath', value = '/html/body/div[2]/div/ul/li[2]/span').click()\n",
    "    myform = BeautifulSoup(response).find('div', {'class':'formation'})\n",
    "    myforms = myform.get_text().replace(' ','').split()\n",
    "    return avg(myforms)  #팀평균\n",
    "# 홈,어웨이팀 \n",
    "def teamname():\n",
    "    teamform = BeautifulSoup(response).find('div', {'class':'score-box'})\n",
    "    team = teamform.select('body > div.sub-top.match > div > div.score-box > div:nth-child(1)')[0].get_text().replace('\\n','').replace(' ','')[0:2]\n",
    "    team2 = teamform.select('body > div.sub-top.match > div > div.score-box > div:nth-child(3)')[0].get_text().replace('\\n','').replace(' ','')[0:2]\n",
    "    return team,team2\n",
    " \n",
    "# csv 저장하기\n",
    "csvFile = open('test.csv', 'a', newline=\"\")\n",
    "writer = csv.writer(csvFile)\n",
    " writer.writerow(('홈','어웨이','라운드','점유율','슈팅','유효슈팅','파울','경고','퇴장','퇴장(경고누적)','코너킥','프리킥','오프사이드','평점','스코어'))\n",
    "# csv파일 저장 함수\n",
    "def test_csv(writer,rounder):\n",
    "    #주요기록\n",
    "    hr1=home_record()\n",
    "    ar1=away_record()\n",
    "    hs1=home_score()\n",
    "    as1=away_score()\n",
    "    try:\n",
    "        writer.writerow((\n",
    "        teamname()[0],#홈\n",
    "        teamname()[1],#어웨이\n",
    "        rounder,#라운드\n",
    "        f'{hr1[0]}:{ar1[0]}',\n",
    "        f'{hr1[1]}:{ar1[1]}',\n",
    "        f'{hr1[2]}:{ar1[2]}',\n",
    "        f'{hr1[3]}:{ar1[3]}',\n",
    "        f'{hr1[4]}:{ar1[4]}',\n",
    "        f'{hr1[5]}:{ar1[5]}',\n",
    "        f'{hr1[6]}:{ar1[6]}',\n",
    "        f'{hr1[7]}:{ar1[7]}',\n",
    "        f'{hr1[8]}:{ar1[8]}',\n",
    "        f'{hr1[9]}:{ar1[9]}',\n",
    "        f'{myformAvg()[0]}:{myformAvg()[1]}',#평점\n",
    "        f'{hs1}:{as1}'#스코어  \n",
    "\n",
    "        ))\n",
    "    finally:\n",
    "        csvFile.close()\n",
    "\n",
    "# # 2월 1경기 전북 수원FC 1-0\n",
    "url_move(suwon_list[0])\n",
    "response = chrome.page_source\n",
    "myform = BeautifulSoup(response).find('div', {'class':'btn-cont'})\n",
    "score = BeautifulSoup(response).find('div', {'class':'score campton'})\n",
    "test_csv(writer,rounder[0])\n",
    "\n",
    "# # # 라인업 클릭\n",
    "elements = chrome.find_element(by='xpath', value=\"/html/body/div[2]/div/ul/li[2]\")\n",
    "elements.click()\n",
    "\n",
    "\n",
    "\n",
    "\n",
    "\n"
   ]
  },
  {
   "cell_type": "code",
   "execution_count": null,
   "id": "f6434707",
   "metadata": {},
   "outputs": [],
   "source": []
  },
  {
   "cell_type": "code",
   "execution_count": 8,
   "id": "eab78b13",
   "metadata": {},
   "outputs": [],
   "source": [
    "# 2월 2경기 수원 수원FC 1-0\n",
    "url_move(suwon_list[1])\n",
    "response = chrome.page_source\n",
    "myform = BeautifulSoup(response).find('div', {'class':'btn-cont'})\n",
    "score = BeautifulSoup(response).find('div', {'class':'score campton'})\n",
    "csvFile = open('test.csv', 'a', newline=\"\")\n",
    "writer = csv.writer(csvFile)\n",
    "test_csv(writer,rounder[1])\n",
    "# 라인업 클릭\n",
    "elements = chrome.find_element(by='xpath', value=\"/html/body/div[2]/div/ul/li[2]\")\n",
    "elements.click()\n"
   ]
  },
  {
   "cell_type": "code",
   "execution_count": 9,
   "id": "48ca2259",
   "metadata": {},
   "outputs": [],
   "source": [
    "# 3월 3경기 울산 수원FC 2-1\n",
    "url_move(suwon_list[2])\n",
    "response = chrome.page_source\n",
    "myform = BeautifulSoup(response).find('div', {'class':'btn-cont'})\n",
    "score = BeautifulSoup(response).find('div', {'class':'score campton'})\n",
    "csvFile = open('test.csv', 'a', newline=\"\")\n",
    "writer = csv.writer(csvFile)\n",
    "test_csv(writer,rounder[2])\n",
    "# 라인업 클릭\n",
    "elements = chrome.find_element(by='xpath', value=\"/html/body/div[2]/div/ul/li[2]\")\n",
    "elements.click()\n"
   ]
  },
  {
   "cell_type": "code",
   "execution_count": 10,
   "id": "6343cea0",
   "metadata": {},
   "outputs": [],
   "source": [
    "# 3월 4경기 제주 수원FC 0-0\n",
    "url_move(suwon_list[3])\n",
    "response = chrome.page_source\n",
    "myform = BeautifulSoup(response).find('div', {'class':'btn-cont'})\n",
    "score = BeautifulSoup(response).find('div', {'class':'score campton'})\n",
    "csvFile = open('test.csv', 'a', newline=\"\")\n",
    "writer = csv.writer(csvFile)\n",
    "test_csv(writer,rounder[3])\n",
    "# 라인업 클릭\n",
    "elements = chrome.find_element(by='xpath', value=\"/html/body/div[2]/div/ul/li[2]\")\n",
    "elements.click()\n"
   ]
  },
  {
   "cell_type": "code",
   "execution_count": 11,
   "id": "1772dc6a",
   "metadata": {},
   "outputs": [
    {
     "ename": "NameError",
     "evalue": "name 'home' is not defined",
     "output_type": "error",
     "traceback": [
      "\u001b[1;31m---------------------------------------------------------------------------\u001b[0m",
      "\u001b[1;31mNameError\u001b[0m                                 Traceback (most recent call last)",
      "Cell \u001b[1;32mIn[11], line 12\u001b[0m\n\u001b[0;32m     10\u001b[0m elements \u001b[38;5;241m=\u001b[39m chrome\u001b[38;5;241m.\u001b[39mfind_element(by\u001b[38;5;241m=\u001b[39m\u001b[38;5;124m'\u001b[39m\u001b[38;5;124mxpath\u001b[39m\u001b[38;5;124m'\u001b[39m, value\u001b[38;5;241m=\u001b[39m\u001b[38;5;124m\"\u001b[39m\u001b[38;5;124m/html/body/div[2]/div/ul/li[2]\u001b[39m\u001b[38;5;124m\"\u001b[39m)\n\u001b[0;32m     11\u001b[0m elements\u001b[38;5;241m.\u001b[39mclick()\n\u001b[1;32m---> 12\u001b[0m \u001b[43mhome\u001b[49m()\n\u001b[0;32m     13\u001b[0m away()\n",
      "\u001b[1;31mNameError\u001b[0m: name 'home' is not defined"
     ]
    }
   ],
   "source": [
    "# 3월 5경기 강원 수원FC 0-2\n",
    "url_move(suwon_list[4])\n",
    "response = chrome.page_source\n",
    "myform = BeautifulSoup(response).find('div', {'class':'btn-cont'})\n",
    "score = BeautifulSoup(response).find('div', {'class':'score campton'})\n",
    "csvFile = open('test.csv', 'a', newline=\"\")\n",
    "writer = csv.writer(csvFile)\n",
    "test_csv(writer,rounder[4])\n",
    "# 라인업 클릭\n",
    "elements = chrome.find_element(by='xpath', value=\"/html/body/div[2]/div/ul/li[2]\")\n",
    "elements.click()\n"
   ]
  },
  {
   "cell_type": "code",
   "execution_count": 12,
   "id": "af140893",
   "metadata": {},
   "outputs": [],
   "source": [
    "# 3월 6경기 수원FC 대구 4-3\n",
    "url_move(suwon_list[5])\n",
    "response = chrome.page_source\n",
    "myform = BeautifulSoup(response).find('div', {'class':'btn-cont'})\n",
    "score = BeautifulSoup(response).find('div', {'class':'score campton'})\n",
    "csvFile = open('test.csv', 'a', newline=\"\")\n",
    "writer = csv.writer(csvFile)\n",
    "test_csv(writer,rounder[5])\n",
    "# 라인업 클릭\n",
    "elements = chrome.find_element(by='xpath', value=\"/html/body/div[2]/div/ul/li[2]\")\n",
    "elements.click()\n"
   ]
  },
  {
   "cell_type": "code",
   "execution_count": 13,
   "id": "ba80b8ec",
   "metadata": {},
   "outputs": [],
   "source": [
    "# 4월 7경기 수원FC 성남 3-4\n",
    "url_move(suwon_list[6])\n",
    "response = chrome.page_source\n",
    "myform = BeautifulSoup(response).find('div', {'class':'btn-cont'})\n",
    "score = BeautifulSoup(response).find('div', {'class':'score campton'})\n",
    "csvFile = open('test.csv', 'a', newline=\"\")\n",
    "writer = csv.writer(csvFile)\n",
    "test_csv(writer,rounder[6])\n",
    "# 라인업 클릭\n",
    "elements = chrome.find_element(by='xpath', value=\"/html/body/div[2]/div/ul/li[2]\")\n",
    "elements.click()\n"
   ]
  },
  {
   "cell_type": "code",
   "execution_count": 14,
   "id": "f834e4fc",
   "metadata": {},
   "outputs": [],
   "source": [
    "# 4월 8경기 포항 수원FC 2-0\n",
    "url_move(suwon_list[7])\n",
    "response = chrome.page_source\n",
    "myform = BeautifulSoup(response).find('div', {'class':'btn-cont'})\n",
    "score = BeautifulSoup(response).find('div', {'class':'score campton'})\n",
    "csvFile = open('test.csv', 'a', newline=\"\")\n",
    "writer = csv.writer(csvFile)\n",
    "test_csv(writer,rounder[7])\n",
    "# 라인업 클릭\n",
    "elements = chrome.find_element(by='xpath', value=\"/html/body/div[2]/div/ul/li[2]\")\n",
    "elements.click()\n"
   ]
  },
  {
   "cell_type": "code",
   "execution_count": 15,
   "id": "ed95ada6",
   "metadata": {},
   "outputs": [],
   "source": [
    "# 4월 9경기 수원FC 김천 3-2\n",
    "url_move(suwon_list[8])\n",
    "response = chrome.page_source\n",
    "myform = BeautifulSoup(response).find('div', {'class':'btn-cont'})\n",
    "score = BeautifulSoup(response).find('div', {'class':'score campton'})\n",
    "csvFile = open('test.csv', 'a', newline=\"\")\n",
    "writer = csv.writer(csvFile)\n",
    "test_csv(writer,rounder[8])\n",
    "# 라인업 클릭\n",
    "elements = chrome.find_element(by='xpath', value=\"/html/body/div[2]/div/ul/li[2]\")\n",
    "elements.click()\n"
   ]
  },
  {
   "cell_type": "code",
   "execution_count": 17,
   "id": "ae5033d9",
   "metadata": {},
   "outputs": [],
   "source": [
    "# 5월 10경기 수원FC 인천 2-2\n",
    "url_move(suwon_list[9])\n",
    "response = chrome.page_source\n",
    "myform = BeautifulSoup(response).find('div', {'class':'btn-cont'})\n",
    "score = BeautifulSoup(response).find('div', {'class':'score campton'})\n",
    "csvFile = open('test.csv', 'a', newline=\"\")\n",
    "writer = csv.writer(csvFile)\n",
    "test_csv(writer,rounder[9])\n",
    "# 라인업 클릭\n",
    "elements = chrome.find_element(by='xpath', value=\"/html/body/div[2]/div/ul/li[2]\")\n",
    "elements.click()\n"
   ]
  },
  {
   "cell_type": "code",
   "execution_count": 18,
   "id": "5cc9f8ab",
   "metadata": {},
   "outputs": [],
   "source": [
    "# 5월 11경기 서울 수원FC 3-1\n",
    "url_move(suwon_list[10])\n",
    "response = chrome.page_source\n",
    "myform = BeautifulSoup(response).find('div', {'class':'btn-cont'})\n",
    "score = BeautifulSoup(response).find('div', {'class':'score campton'})\n",
    "csvFile = open('test.csv', 'a', newline=\"\")\n",
    "writer = csv.writer(csvFile)\n",
    "test_csv(writer,rounder[10])\n",
    "# 라인업 클릭\n",
    "elements = chrome.find_element(by='xpath', value=\"/html/body/div[2]/div/ul/li[2]\")\n",
    "elements.click()\n"
   ]
  },
  {
   "cell_type": "code",
   "execution_count": 19,
   "id": "3da825d6",
   "metadata": {},
   "outputs": [],
   "source": [
    "# 5월 12경기 수원FC 제주 1-3\n",
    "url_move(suwon_list[11])\n",
    "response = chrome.page_source\n",
    "myform = BeautifulSoup(response).find('div', {'class':'btn-cont'})\n",
    "score = BeautifulSoup(response).find('div', {'class':'score campton'})\n",
    "csvFile = open('test.csv', 'a', newline=\"\")\n",
    "writer = csv.writer(csvFile)\n",
    "test_csv(writer,rounder[11])\n",
    "# 라인업 클릭\n",
    "elements = chrome.find_element(by='xpath', value=\"/html/body/div[2]/div/ul/li[2]\")\n",
    "elements.click()\n"
   ]
  },
  {
   "cell_type": "code",
   "execution_count": 20,
   "id": "16e8d04a",
   "metadata": {},
   "outputs": [],
   "source": [
    "# 5월 13경기 성남 수원FC 2-2\n",
    "url_move(suwon_list[12])\n",
    "response = chrome.page_source\n",
    "myform = BeautifulSoup(response).find('div', {'class':'btn-cont'})\n",
    "score = BeautifulSoup(response).find('div', {'class':'score campton'})\n",
    "csvFile = open('test.csv', 'a', newline=\"\")\n",
    "writer = csv.writer(csvFile)\n",
    "test_csv(writer,rounder[12])\n",
    "# 라인업 클릭\n",
    "elements = chrome.find_element(by='xpath', value=\"/html/body/div[2]/div/ul/li[2]\")\n",
    "elements.click()\n"
   ]
  },
  {
   "cell_type": "code",
   "execution_count": 21,
   "id": "fcc50175",
   "metadata": {},
   "outputs": [],
   "source": [
    "# 5월 14경기 수원FC 전북 0-1\n",
    "url_move(suwon_list[13])\n",
    "response = chrome.page_source\n",
    "myform = BeautifulSoup(response).find('div', {'class':'btn-cont'})\n",
    "score = BeautifulSoup(response).find('div', {'class':'score campton'})\n",
    "csvFile = open('test.csv', 'a', newline=\"\")\n",
    "writer = csv.writer(csvFile)\n",
    "test_csv(writer,rounder[13])\n",
    "# 라인업 클릭\n",
    "elements = chrome.find_element(by='xpath', value=\"/html/body/div[2]/div/ul/li[2]\")\n",
    "elements.click()\n"
   ]
  },
  {
   "cell_type": "code",
   "execution_count": 22,
   "id": "33882e55",
   "metadata": {},
   "outputs": [],
   "source": [
    "# 5월 15경기 수원FC 울산 1-2\n",
    "url_move(suwon_list[14])\n",
    "response = chrome.page_source\n",
    "myform = BeautifulSoup(response).find('div', {'class':'btn-cont'})\n",
    "score = BeautifulSoup(response).find('div', {'class':'score campton'})\n",
    "csvFile = open('test.csv', 'a', newline=\"\")\n",
    "writer = csv.writer(csvFile)\n",
    "test_csv(writer,rounder[14])\n",
    "# 라인업 클릭\n",
    "elements = chrome.find_element(by='xpath', value=\"/html/body/div[2]/div/ul/li[2]\")\n",
    "elements.click()\n"
   ]
  },
  {
   "cell_type": "code",
   "execution_count": 23,
   "id": "21291ce5",
   "metadata": {},
   "outputs": [],
   "source": [
    "# 6월 16경기 김천 수원FC  0-1\n",
    "url_move(suwon_list[15])\n",
    "response = chrome.page_source\n",
    "myform = BeautifulSoup(response).find('div', {'class':'btn-cont'})\n",
    "score = BeautifulSoup(response).find('div', {'class':'score campton'})\n",
    "csvFile = open('test.csv', 'a', newline=\"\")\n",
    "writer = csv.writer(csvFile)\n",
    "test_csv(writer,rounder[15])\n",
    "# 라인업 클릭\n",
    "elements = chrome.find_element(by='xpath', value=\"/html/body/div[2]/div/ul/li[2]\")\n",
    "elements.click()\n"
   ]
  },
  {
   "cell_type": "code",
   "execution_count": 24,
   "id": "7c00b2a1",
   "metadata": {},
   "outputs": [],
   "source": [
    "# 6월 17경기 수원FC 포항  2-1\n",
    "url_move(suwon_list[16])\n",
    "response = chrome.page_source\n",
    "myform = BeautifulSoup(response).find('div', {'class':'btn-cont'})\n",
    "score = BeautifulSoup(response).find('div', {'class':'score campton'})\n",
    "csvFile = open('test.csv', 'a', newline=\"\")\n",
    "writer = csv.writer(csvFile)\n",
    "test_csv(writer,rounder[16])\n",
    "# 라인업 클릭\n",
    "elements = chrome.find_element(by='xpath', value=\"/html/body/div[2]/div/ul/li[2]\")\n",
    "elements.click()\n"
   ]
  },
  {
   "cell_type": "code",
   "execution_count": 25,
   "id": "f5a8491e",
   "metadata": {},
   "outputs": [],
   "source": [
    "# 6월 18경기 수원FC 수원 3-0\n",
    "url_move(suwon_list[17])\n",
    "response = chrome.page_source\n",
    "myform = BeautifulSoup(response).find('div', {'class':'btn-cont'})\n",
    "score = BeautifulSoup(response).find('div', {'class':'score campton'})\n",
    "csvFile = open('test.csv', 'a', newline=\"\")\n",
    "writer = csv.writer(csvFile)\n",
    "test_csv(writer,rounder[17])\n",
    "# 라인업 클릭\n",
    "elements = chrome.find_element(by='xpath', value=\"/html/body/div[2]/div/ul/li[2]\")\n",
    "elements.click()\n"
   ]
  },
  {
   "cell_type": "code",
   "execution_count": 26,
   "id": "10b3040b",
   "metadata": {},
   "outputs": [],
   "source": [
    "# 7월 19경기 대구 수원FC 0-0\n",
    "url_move(suwon_list[18])\n",
    "response = chrome.page_source\n",
    "myform = BeautifulSoup(response).find('div', {'class':'btn-cont'})\n",
    "score = BeautifulSoup(response).find('div', {'class':'score campton'})\n",
    "csvFile = open('test.csv', 'a', newline=\"\")\n",
    "writer = csv.writer(csvFile)\n",
    "test_csv(writer,rounder[18])\n",
    "# 라인업 클릭\n",
    "elements = chrome.find_element(by='xpath', value=\"/html/body/div[2]/div/ul/li[2]\")\n",
    "elements.click()\n"
   ]
  },
  {
   "cell_type": "code",
   "execution_count": 27,
   "id": "dd057308",
   "metadata": {},
   "outputs": [],
   "source": [
    "# 7월 20경기 인천 수원FC 0-1\n",
    "url_move(suwon_list[19])\n",
    "response = chrome.page_source\n",
    "myform = BeautifulSoup(response).find('div', {'class':'btn-cont'})\n",
    "score = BeautifulSoup(response).find('div', {'class':'score campton'})\n",
    "csvFile = open('test.csv', 'a', newline=\"\")\n",
    "writer = csv.writer(csvFile)\n",
    "test_csv(writer,rounder[19])\n",
    "# 라인업 클릭\n",
    "elements = chrome.find_element(by='xpath', value=\"/html/body/div[2]/div/ul/li[2]\")\n",
    "elements.click()\n"
   ]
  },
  {
   "cell_type": "code",
   "execution_count": 28,
   "id": "78b0aea1",
   "metadata": {},
   "outputs": [],
   "source": [
    "# 7월 21경기 수원FC 서울 4-3\n",
    "url_move(suwon_list[20])\n",
    "response = chrome.page_source\n",
    "myform = BeautifulSoup(response).find('div', {'class':'btn-cont'})\n",
    "score = BeautifulSoup(response).find('div', {'class':'score campton'})\n",
    "csvFile = open('test.csv', 'a', newline=\"\")\n",
    "writer = csv.writer(csvFile)\n",
    "test_csv(writer,rounder[20])\n",
    "# 라인업 클릭\n",
    "elements = chrome.find_element(by='xpath', value=\"/html/body/div[2]/div/ul/li[2]\")\n",
    "elements.click()\n"
   ]
  },
  {
   "cell_type": "code",
   "execution_count": 29,
   "id": "635fe55c",
   "metadata": {},
   "outputs": [],
   "source": [
    "# 7월 22경기 수원FC 강원 2-4\n",
    "url_move(suwon_list[21])\n",
    "response = chrome.page_source\n",
    "myform = BeautifulSoup(response).find('div', {'class':'btn-cont'})\n",
    "score = BeautifulSoup(response).find('div', {'class':'score campton'})\n",
    "csvFile = open('test.csv', 'a', newline=\"\")\n",
    "writer = csv.writer(csvFile)\n",
    "test_csv(writer,rounder[21])\n",
    "# 라인업 클릭\n",
    "elements = chrome.find_element(by='xpath', value=\"/html/body/div[2]/div/ul/li[2]\")\n",
    "elements.click()\n"
   ]
  },
  {
   "cell_type": "code",
   "execution_count": 30,
   "id": "c434188f",
   "metadata": {},
   "outputs": [],
   "source": [
    "# 8월 23경기 성남 수원FC 2-1\n",
    "url_move(suwon_list[22])\n",
    "response = chrome.page_source\n",
    "myform = BeautifulSoup(response).find('div', {'class':'btn-cont'})\n",
    "score = BeautifulSoup(response).find('div', {'class':'score campton'})\n",
    "csvFile = open('test.csv', 'a', newline=\"\")\n",
    "writer = csv.writer(csvFile)\n",
    "test_csv(writer,rounder[22])\n",
    "# 라인업 클릭\n",
    "elements = chrome.find_element(by='xpath', value=\"/html/body/div[2]/div/ul/li[2]\")\n",
    "elements.click()\n",
    "\n"
   ]
  },
  {
   "cell_type": "code",
   "execution_count": 31,
   "id": "dc366263",
   "metadata": {},
   "outputs": [],
   "source": [
    "# 8월 24경기 수원FC 전북 0-1\n",
    "url_move(suwon_list[23])\n",
    "response = chrome.page_source\n",
    "myform = BeautifulSoup(response).find('div', {'class':'btn-cont'})\n",
    "score = BeautifulSoup(response).find('div', {'class':'score campton'})\n",
    "csvFile = open('test.csv', 'a', newline=\"\")\n",
    "writer = csv.writer(csvFile)\n",
    "test_csv(writer,rounder[23])\n",
    "# 라인업 클릭\n",
    "elements = chrome.find_element(by='xpath', value=\"/html/body/div[2]/div/ul/li[2]\")\n",
    "elements.click()\n",
    "\n"
   ]
  },
  {
   "cell_type": "code",
   "execution_count": 32,
   "id": "ebe0966f",
   "metadata": {},
   "outputs": [],
   "source": [
    "# 7월 25경기 수원FC 대구 2-2\n",
    "url_move(suwon_list[24])\n",
    "response = chrome.page_source\n",
    "myform = BeautifulSoup(response).find('div', {'class':'btn-cont'})\n",
    "score = BeautifulSoup(response).find('div', {'class':'score campton'})\n",
    "csvFile = open('test.csv', 'a', newline=\"\")\n",
    "writer = csv.writer(csvFile)\n",
    "test_csv(writer,rounder[24])\n",
    "# 라인업 클릭\n",
    "elements = chrome.find_element(by='xpath', value=\"/html/body/div[2]/div/ul/li[2]\")\n",
    "elements.click()\n"
   ]
  },
  {
   "cell_type": "code",
   "execution_count": 33,
   "id": "b7f34b2e",
   "metadata": {},
   "outputs": [],
   "source": [
    "\n",
    "# 8월 26경기 인천 수원FC 1-1\n",
    "url_move(suwon_list[25])\n",
    "response = chrome.page_source\n",
    "myform = BeautifulSoup(response).find('div', {'class':'btn-cont'})\n",
    "score = BeautifulSoup(response).find('div', {'class':'score campton'})\n",
    "csvFile = open('test.csv', 'a', newline=\"\")\n",
    "writer = csv.writer(csvFile)\n",
    "test_csv(writer,rounder[25])\n",
    "# 라인업 클릭\n",
    "elements = chrome.find_element(by='xpath', value=\"/html/body/div[2]/div/ul/li[2]\")\n",
    "elements.click()\n"
   ]
  },
  {
   "cell_type": "code",
   "execution_count": 34,
   "id": "61cc4970",
   "metadata": {},
   "outputs": [],
   "source": [
    "# 8월 27경기 수원FC 수원 4-2\n",
    "url_move(suwon_list[26])\n",
    "response = chrome.page_source\n",
    "myform = BeautifulSoup(response).find('div', {'class':'btn-cont'})\n",
    "score = BeautifulSoup(response).find('div', {'class':'score campton'})\n",
    "csvFile = open('test.csv', 'a', newline=\"\")\n",
    "writer = csv.writer(csvFile)\n",
    "test_csv(writer,rounder[26])\n",
    "# 라인업 클릭\n",
    "elements = chrome.find_element(by='xpath', value=\"/html/body/div[2]/div/ul/li[2]\")\n",
    "elements.click()\n"
   ]
  },
  {
   "cell_type": "code",
   "execution_count": 35,
   "id": "839113c6",
   "metadata": {},
   "outputs": [],
   "source": [
    "# 8월 28경기 강원 수원FC 2-3\n",
    "url_move(suwon_list[27])\n",
    "response = chrome.page_source\n",
    "myform = BeautifulSoup(response).find('div', {'class':'btn-cont'})\n",
    "score = BeautifulSoup(response).find('div', {'class':'score campton'})\n",
    "csvFile = open('test.csv', 'a', newline=\"\")\n",
    "writer = csv.writer(csvFile)\n",
    "test_csv(writer,rounder[27])\n",
    "# 라인업 클릭\n",
    "elements = chrome.find_element(by='xpath', value=\"/html/body/div[2]/div/ul/li[2]\")\n",
    "elements.click()\n"
   ]
  },
  {
   "cell_type": "code",
   "execution_count": 36,
   "id": "605f68bc",
   "metadata": {},
   "outputs": [],
   "source": [
    "# 9월 29경기 수원FC 제주 2-2\n",
    "url_move(suwon_list[28])\n",
    "response = chrome.page_source\n",
    "myform = BeautifulSoup(response).find('div', {'class':'btn-cont'})\n",
    "score = BeautifulSoup(response).find('div', {'class':'score campton'})\n",
    "csvFile = open('test.csv', 'a', newline=\"\")\n",
    "writer = csv.writer(csvFile)\n",
    "test_csv(writer,rounder[28])\n",
    "# 라인업 클릭\n",
    "elements = chrome.find_element(by='xpath', value=\"/html/body/div[2]/div/ul/li[2]\")\n",
    "elements.click()\n"
   ]
  },
  {
   "cell_type": "code",
   "execution_count": 37,
   "id": "74625a88",
   "metadata": {},
   "outputs": [],
   "source": [
    "# 9월 30경기 수원FC 포항 1-0\n",
    "url_move(suwon_list[29])\n",
    "response = chrome.page_source\n",
    "myform = BeautifulSoup(response).find('div', {'class':'btn-cont'})\n",
    "score = BeautifulSoup(response).find('div', {'class':'score campton'})\n",
    "csvFile = open('test.csv', 'a', newline=\"\")\n",
    "writer = csv.writer(csvFile)\n",
    "test_csv(writer,rounder[29])\n",
    "# 라인업 클릭\n",
    "elements = chrome.find_element(by='xpath', value=\"/html/body/div[2]/div/ul/li[2]\")\n",
    "elements.click()\n"
   ]
  },
  {
   "cell_type": "code",
   "execution_count": 6,
   "id": "0b559582",
   "metadata": {},
   "outputs": [
    {
     "ename": "ValueError",
     "evalue": "could not convert string to float: '강상희'",
     "output_type": "error",
     "traceback": [
      "\u001b[1;31m---------------------------------------------------------------------------\u001b[0m",
      "\u001b[1;31mValueError\u001b[0m                                Traceback (most recent call last)",
      "Cell \u001b[1;32mIn[6], line 8\u001b[0m\n\u001b[0;32m      6\u001b[0m csvFile \u001b[38;5;241m=\u001b[39m \u001b[38;5;28mopen\u001b[39m(\u001b[38;5;124m'\u001b[39m\u001b[38;5;124mtest.csv\u001b[39m\u001b[38;5;124m'\u001b[39m, \u001b[38;5;124m'\u001b[39m\u001b[38;5;124ma\u001b[39m\u001b[38;5;124m'\u001b[39m, newline\u001b[38;5;241m=\u001b[39m\u001b[38;5;124m\"\u001b[39m\u001b[38;5;124m\"\u001b[39m)\n\u001b[0;32m      7\u001b[0m writer \u001b[38;5;241m=\u001b[39m csv\u001b[38;5;241m.\u001b[39mwriter(csvFile)\n\u001b[1;32m----> 8\u001b[0m \u001b[43mtest_csv\u001b[49m\u001b[43m(\u001b[49m\u001b[43mwriter\u001b[49m\u001b[43m,\u001b[49m\u001b[43mrounder\u001b[49m\u001b[43m[\u001b[49m\u001b[38;5;241;43m30\u001b[39;49m\u001b[43m]\u001b[49m\u001b[43m)\u001b[49m\n\u001b[0;32m      9\u001b[0m \u001b[38;5;66;03m# 라인업 클릭\u001b[39;00m\n\u001b[0;32m     10\u001b[0m elements \u001b[38;5;241m=\u001b[39m chrome\u001b[38;5;241m.\u001b[39mfind_element(by\u001b[38;5;241m=\u001b[39m\u001b[38;5;124m'\u001b[39m\u001b[38;5;124mxpath\u001b[39m\u001b[38;5;124m'\u001b[39m, value\u001b[38;5;241m=\u001b[39m\u001b[38;5;124m\"\u001b[39m\u001b[38;5;124m/html/body/div[2]/div/ul/li[2]\u001b[39m\u001b[38;5;124m\"\u001b[39m)\n",
      "Cell \u001b[1;32mIn[5], line 95\u001b[0m, in \u001b[0;36mtest_csv\u001b[1;34m(writer, rounder)\u001b[0m\n\u001b[0;32m     79\u001b[0m as1\u001b[38;5;241m=\u001b[39maway_score()\n\u001b[0;32m     80\u001b[0m \u001b[38;5;28;01mtry\u001b[39;00m:\n\u001b[0;32m     81\u001b[0m     writer\u001b[38;5;241m.\u001b[39mwriterow((\n\u001b[0;32m     82\u001b[0m     teamname()[\u001b[38;5;241m0\u001b[39m],\u001b[38;5;66;03m#홈\u001b[39;00m\n\u001b[0;32m     83\u001b[0m     teamname()[\u001b[38;5;241m1\u001b[39m],\u001b[38;5;66;03m#어웨이\u001b[39;00m\n\u001b[0;32m     84\u001b[0m     rounder,\u001b[38;5;66;03m#라운드\u001b[39;00m\n\u001b[0;32m     85\u001b[0m     \u001b[38;5;124mf\u001b[39m\u001b[38;5;124m'\u001b[39m\u001b[38;5;132;01m{\u001b[39;00mhr1[\u001b[38;5;241m0\u001b[39m]\u001b[38;5;132;01m}\u001b[39;00m\u001b[38;5;124m:\u001b[39m\u001b[38;5;132;01m{\u001b[39;00mar1[\u001b[38;5;241m0\u001b[39m]\u001b[38;5;132;01m}\u001b[39;00m\u001b[38;5;124m'\u001b[39m,\n\u001b[0;32m     86\u001b[0m     \u001b[38;5;124mf\u001b[39m\u001b[38;5;124m'\u001b[39m\u001b[38;5;132;01m{\u001b[39;00mhr1[\u001b[38;5;241m1\u001b[39m]\u001b[38;5;132;01m}\u001b[39;00m\u001b[38;5;124m:\u001b[39m\u001b[38;5;132;01m{\u001b[39;00mar1[\u001b[38;5;241m1\u001b[39m]\u001b[38;5;132;01m}\u001b[39;00m\u001b[38;5;124m'\u001b[39m,\n\u001b[0;32m     87\u001b[0m     \u001b[38;5;124mf\u001b[39m\u001b[38;5;124m'\u001b[39m\u001b[38;5;132;01m{\u001b[39;00mhr1[\u001b[38;5;241m2\u001b[39m]\u001b[38;5;132;01m}\u001b[39;00m\u001b[38;5;124m:\u001b[39m\u001b[38;5;132;01m{\u001b[39;00mar1[\u001b[38;5;241m2\u001b[39m]\u001b[38;5;132;01m}\u001b[39;00m\u001b[38;5;124m'\u001b[39m,\n\u001b[0;32m     88\u001b[0m     \u001b[38;5;124mf\u001b[39m\u001b[38;5;124m'\u001b[39m\u001b[38;5;132;01m{\u001b[39;00mhr1[\u001b[38;5;241m3\u001b[39m]\u001b[38;5;132;01m}\u001b[39;00m\u001b[38;5;124m:\u001b[39m\u001b[38;5;132;01m{\u001b[39;00mar1[\u001b[38;5;241m3\u001b[39m]\u001b[38;5;132;01m}\u001b[39;00m\u001b[38;5;124m'\u001b[39m,\n\u001b[0;32m     89\u001b[0m     \u001b[38;5;124mf\u001b[39m\u001b[38;5;124m'\u001b[39m\u001b[38;5;132;01m{\u001b[39;00mhr1[\u001b[38;5;241m4\u001b[39m]\u001b[38;5;132;01m}\u001b[39;00m\u001b[38;5;124m:\u001b[39m\u001b[38;5;132;01m{\u001b[39;00mar1[\u001b[38;5;241m4\u001b[39m]\u001b[38;5;132;01m}\u001b[39;00m\u001b[38;5;124m'\u001b[39m,\n\u001b[0;32m     90\u001b[0m     \u001b[38;5;124mf\u001b[39m\u001b[38;5;124m'\u001b[39m\u001b[38;5;132;01m{\u001b[39;00mhr1[\u001b[38;5;241m5\u001b[39m]\u001b[38;5;132;01m}\u001b[39;00m\u001b[38;5;124m:\u001b[39m\u001b[38;5;132;01m{\u001b[39;00mar1[\u001b[38;5;241m5\u001b[39m]\u001b[38;5;132;01m}\u001b[39;00m\u001b[38;5;124m'\u001b[39m,\n\u001b[0;32m     91\u001b[0m     \u001b[38;5;124mf\u001b[39m\u001b[38;5;124m'\u001b[39m\u001b[38;5;132;01m{\u001b[39;00mhr1[\u001b[38;5;241m6\u001b[39m]\u001b[38;5;132;01m}\u001b[39;00m\u001b[38;5;124m:\u001b[39m\u001b[38;5;132;01m{\u001b[39;00mar1[\u001b[38;5;241m6\u001b[39m]\u001b[38;5;132;01m}\u001b[39;00m\u001b[38;5;124m'\u001b[39m,\n\u001b[0;32m     92\u001b[0m     \u001b[38;5;124mf\u001b[39m\u001b[38;5;124m'\u001b[39m\u001b[38;5;132;01m{\u001b[39;00mhr1[\u001b[38;5;241m7\u001b[39m]\u001b[38;5;132;01m}\u001b[39;00m\u001b[38;5;124m:\u001b[39m\u001b[38;5;132;01m{\u001b[39;00mar1[\u001b[38;5;241m7\u001b[39m]\u001b[38;5;132;01m}\u001b[39;00m\u001b[38;5;124m'\u001b[39m,\n\u001b[0;32m     93\u001b[0m     \u001b[38;5;124mf\u001b[39m\u001b[38;5;124m'\u001b[39m\u001b[38;5;132;01m{\u001b[39;00mhr1[\u001b[38;5;241m8\u001b[39m]\u001b[38;5;132;01m}\u001b[39;00m\u001b[38;5;124m:\u001b[39m\u001b[38;5;132;01m{\u001b[39;00mar1[\u001b[38;5;241m8\u001b[39m]\u001b[38;5;132;01m}\u001b[39;00m\u001b[38;5;124m'\u001b[39m,\n\u001b[0;32m     94\u001b[0m     \u001b[38;5;124mf\u001b[39m\u001b[38;5;124m'\u001b[39m\u001b[38;5;132;01m{\u001b[39;00mhr1[\u001b[38;5;241m9\u001b[39m]\u001b[38;5;132;01m}\u001b[39;00m\u001b[38;5;124m:\u001b[39m\u001b[38;5;132;01m{\u001b[39;00mar1[\u001b[38;5;241m9\u001b[39m]\u001b[38;5;132;01m}\u001b[39;00m\u001b[38;5;124m'\u001b[39m,\n\u001b[1;32m---> 95\u001b[0m     \u001b[38;5;124mf\u001b[39m\u001b[38;5;124m'\u001b[39m\u001b[38;5;132;01m{\u001b[39;00mmyformAvg()[\u001b[38;5;241m0\u001b[39m]\u001b[38;5;132;01m}\u001b[39;00m\u001b[38;5;124m:\u001b[39m\u001b[38;5;132;01m{\u001b[39;00mmyformAvg()[\u001b[38;5;241m1\u001b[39m]\u001b[38;5;132;01m}\u001b[39;00m\u001b[38;5;124m'\u001b[39m,\u001b[38;5;66;03m#평점\u001b[39;00m\n\u001b[0;32m     96\u001b[0m     \u001b[38;5;124mf\u001b[39m\u001b[38;5;124m'\u001b[39m\u001b[38;5;132;01m{\u001b[39;00mhs1\u001b[38;5;132;01m}\u001b[39;00m\u001b[38;5;124m:\u001b[39m\u001b[38;5;132;01m{\u001b[39;00mas1\u001b[38;5;132;01m}\u001b[39;00m\u001b[38;5;124m'\u001b[39m\u001b[38;5;66;03m#스코어  \u001b[39;00m\n\u001b[0;32m     97\u001b[0m \n\u001b[0;32m     98\u001b[0m     ))\n\u001b[0;32m     99\u001b[0m \u001b[38;5;28;01mfinally\u001b[39;00m:\n\u001b[0;32m    100\u001b[0m     csvFile\u001b[38;5;241m.\u001b[39mclose()\n",
      "Cell \u001b[1;32mIn[5], line 61\u001b[0m, in \u001b[0;36mmyformAvg\u001b[1;34m()\u001b[0m\n\u001b[0;32m     59\u001b[0m myform \u001b[38;5;241m=\u001b[39m BeautifulSoup(response)\u001b[38;5;241m.\u001b[39mfind(\u001b[38;5;124m'\u001b[39m\u001b[38;5;124mdiv\u001b[39m\u001b[38;5;124m'\u001b[39m, {\u001b[38;5;124m'\u001b[39m\u001b[38;5;124mclass\u001b[39m\u001b[38;5;124m'\u001b[39m:\u001b[38;5;124m'\u001b[39m\u001b[38;5;124mformation\u001b[39m\u001b[38;5;124m'\u001b[39m})\n\u001b[0;32m     60\u001b[0m myforms \u001b[38;5;241m=\u001b[39m myform\u001b[38;5;241m.\u001b[39mget_text()\u001b[38;5;241m.\u001b[39mreplace(\u001b[38;5;124m'\u001b[39m\u001b[38;5;124m \u001b[39m\u001b[38;5;124m'\u001b[39m,\u001b[38;5;124m'\u001b[39m\u001b[38;5;124m'\u001b[39m)\u001b[38;5;241m.\u001b[39msplit()\n\u001b[1;32m---> 61\u001b[0m \u001b[38;5;28;01mreturn\u001b[39;00m \u001b[43mavg\u001b[49m\u001b[43m(\u001b[49m\u001b[43mmyforms\u001b[49m\u001b[43m)\u001b[49m\n",
      "Cell \u001b[1;32mIn[5], line 51\u001b[0m, in \u001b[0;36mavg\u001b[1;34m(myforms)\u001b[0m\n\u001b[0;32m     49\u001b[0m \u001b[38;5;28;01mfor\u001b[39;00m i \u001b[38;5;129;01min\u001b[39;00m \u001b[38;5;28mrange\u001b[39m(\u001b[38;5;28mlen\u001b[39m(myforms)):\n\u001b[0;32m     50\u001b[0m     \u001b[38;5;28;01mif\u001b[39;00m i \u001b[38;5;241m<\u001b[39m\u001b[38;5;241m=\u001b[39m \u001b[38;5;241m11\u001b[39m:\n\u001b[1;32m---> 51\u001b[0m         result \u001b[38;5;241m+\u001b[39m\u001b[38;5;241m=\u001b[39m \u001b[38;5;28;43mfloat\u001b[39;49m\u001b[43m(\u001b[49m\u001b[43mmyforms\u001b[49m\u001b[43m[\u001b[49m\u001b[43mi\u001b[49m\u001b[43m]\u001b[49m\u001b[43m[\u001b[49m\u001b[38;5;241;43m0\u001b[39;49m\u001b[43m:\u001b[49m\u001b[38;5;241;43m3\u001b[39;49m\u001b[43m]\u001b[49m\u001b[43m)\u001b[49m\n\u001b[0;32m     52\u001b[0m     \u001b[38;5;28;01melse\u001b[39;00m:\n\u001b[0;32m     53\u001b[0m         result2 \u001b[38;5;241m+\u001b[39m\u001b[38;5;241m=\u001b[39m\u001b[38;5;28mfloat\u001b[39m(myforms[i][\u001b[38;5;241m0\u001b[39m:\u001b[38;5;241m3\u001b[39m])\n",
      "\u001b[1;31mValueError\u001b[0m: could not convert string to float: '강상희'"
     ]
    }
   ],
   "source": [
    "# 9월 31경기 서울 수원FC 2-2\n",
    "url_move(suwon_list[30])\n",
    "response = chrome.page_source\n",
    "myform = BeautifulSoup(response).find('div', {'class':'btn-cont'})\n",
    "score = BeautifulSoup(response).find('div', {'class':'score campton'})\n",
    "csvFile = open('test.csv', 'a', newline=\"\")\n",
    "writer = csv.writer(csvFile)\n",
    "test_csv(writer,rounder[30])\n",
    "# 라인업 클릭\n",
    "elements = chrome.find_element(by='xpath', value=\"/html/body/div[2]/div/ul/li[2]\")\n",
    "elements.click()\n"
   ]
  },
  {
   "cell_type": "code",
   "execution_count": 7,
   "id": "e914fc50",
   "metadata": {},
   "outputs": [],
   "source": [
    "# 9월 32경기 수원FC 김천 2-1\n",
    "url_move(suwon_list[31])\n",
    "response = chrome.page_source\n",
    "myform = BeautifulSoup(response).find('div', {'class':'btn-cont'})\n",
    "score = BeautifulSoup(response).find('div', {'class':'score campton'})\n",
    "csvFile = open('test.csv', 'a', newline=\"\")\n",
    "writer = csv.writer(csvFile)\n",
    "test_csv(writer,rounder[31])\n",
    "# 라인업 클릭\n",
    "elements = chrome.find_element(by='xpath', value=\"/html/body/div[2]/div/ul/li[2]\")\n",
    "elements.click()\n"
   ]
  },
  {
   "cell_type": "code",
   "execution_count": 9,
   "id": "b260b7a2",
   "metadata": {},
   "outputs": [],
   "source": [
    "# 9월 33경기 울산 수원FC 2-0\n",
    "url_move(suwon_list[32])\n",
    "response = chrome.page_source\n",
    "myform = BeautifulSoup(response).find('div', {'class':'btn-cont'})\n",
    "score = BeautifulSoup(response).find('div', {'class':'score campton'})\n",
    "csvFile = open('test.csv', 'a', newline=\"\")\n",
    "writer = csv.writer(csvFile)\n",
    "test_csv(writer,rounder[32])\n",
    "# 라인업 클릭\n",
    "elements = chrome.find_element(by='xpath', value=\"/html/body/div[2]/div/ul/li[2]\")\n",
    "elements.click()\n"
   ]
  },
  {
   "cell_type": "code",
   "execution_count": 10,
   "id": "67c9a5fe",
   "metadata": {},
   "outputs": [],
   "source": [
    "# 10월 34경기 수원FC 김천 2-2\n",
    "url_move(suwon_list[33])\n",
    "response = chrome.page_source\n",
    "myform = BeautifulSoup(response).find('div', {'class':'btn-cont'})\n",
    "score = BeautifulSoup(response).find('div', {'class':'score campton'})\n",
    "csvFile = open('test.csv', 'a', newline=\"\")\n",
    "writer = csv.writer(csvFile)\n",
    "test_csv(writer,rounder[33])\n",
    "# 라인업 클릭\n",
    "elements = chrome.find_element(by='xpath', value=\"/html/body/div[2]/div/ul/li[2]\")\n",
    "elements.click()\n"
   ]
  },
  {
   "cell_type": "code",
   "execution_count": 11,
   "id": "2d264931",
   "metadata": {},
   "outputs": [],
   "source": [
    "# 10월 35경기 대구 수원FC 2-1\n",
    "url_move(suwon_list[34])\n",
    "response = chrome.page_source\n",
    "myform = BeautifulSoup(response).find('div', {'class':'btn-cont'})\n",
    "score = BeautifulSoup(response).find('div', {'class':'score campton'})\n",
    "csvFile = open('test.csv', 'a', newline=\"\")\n",
    "writer = csv.writer(csvFile)\n",
    "test_csv(writer,rounder[34])\n",
    "# 라인업 클릭\n",
    "elements = chrome.find_element(by='xpath', value=\"/html/body/div[2]/div/ul/li[2]\")\n",
    "elements.click()\n"
   ]
  },
  {
   "cell_type": "code",
   "execution_count": 12,
   "id": "11af3ed3",
   "metadata": {},
   "outputs": [],
   "source": [
    "# 10월 36경기 수원FC 성남 2-1\n",
    "url_move(suwon_list[35])\n",
    "response = chrome.page_source\n",
    "myform = BeautifulSoup(response).find('div', {'class':'btn-cont'})\n",
    "score = BeautifulSoup(response).find('div', {'class':'score campton'})\n",
    "csvFile = open('test.csv', 'a', newline=\"\")\n",
    "writer = csv.writer(csvFile)\n",
    "test_csv(writer,rounder[35])\n",
    "# 라인업 클릭\n",
    "elements = chrome.find_element(by='xpath', value=\"/html/body/div[2]/div/ul/li[2]\")\n",
    "elements.click()\n"
   ]
  },
  {
   "cell_type": "code",
   "execution_count": 13,
   "id": "e8767d49",
   "metadata": {},
   "outputs": [],
   "source": [
    "# 10월 37경기 수원 수원FC 3-0\n",
    "url_move(suwon_list[36])\n",
    "response = chrome.page_source\n",
    "myform = BeautifulSoup(response).find('div', {'class':'btn-cont'})\n",
    "score = BeautifulSoup(response).find('div', {'class':'score campton'})\n",
    "csvFile = open('test.csv', 'a', newline=\"\")\n",
    "writer = csv.writer(csvFile)\n",
    "test_csv(writer,rounder[36])\n",
    "# 라인업 클릭\n",
    "elements = chrome.find_element(by='xpath', value=\"/html/body/div[2]/div/ul/li[2]\")\n",
    "elements.click()\n"
   ]
  },
  {
   "cell_type": "code",
   "execution_count": 14,
   "id": "4bb78b48",
   "metadata": {},
   "outputs": [],
   "source": [
    "# 10월 38경기 수원FC 서울 0-2\n",
    "url_move(suwon_list[37])\n",
    "response = chrome.page_source\n",
    "myform = BeautifulSoup(response).find('div', {'class':'btn-cont'})\n",
    "score = BeautifulSoup(response).find('div', {'class':'score campton'})\n",
    "csvFile = open('test.csv', 'a', newline=\"\")\n",
    "writer = csv.writer(csvFile)\n",
    "test_csv(writer,rounder[37])\n",
    "# 라인업 클릭\n",
    "elements = chrome.find_element(by='xpath', value=\"/html/body/div[2]/div/ul/li[2]\")\n",
    "elements.click()\n",
    "\n",
    "\n"
   ]
  },
  {
   "cell_type": "code",
   "execution_count": 8,
   "id": "3c726f04",
   "metadata": {},
   "outputs": [
    {
     "name": "stdout",
     "output_type": "stream",
     "text": [
      "[1, 2, 3]\n"
     ]
    }
   ],
   "source": [
    "def a():\n",
    "    li=[1,2,3]\n",
    "    return li\n",
    "\n",
    "def b():\n",
    "    print(a())\n",
    "b()"
   ]
  },
  {
   "cell_type": "code",
   "execution_count": 15,
   "id": "f3872d46",
   "metadata": {},
   "outputs": [
    {
     "name": "stdout",
     "output_type": "stream",
     "text": [
      "h_s\n",
      "a_s\n",
      "[1:4]\n",
      "[2:5]\n",
      "[3:6]\n"
     ]
    }
   ],
   "source": [
    "def h_s():\n",
    "    print('h_s')\n",
    "    li1 = [1,2,3]\n",
    "    return li1\n",
    "\n",
    "def a_s():\n",
    "    print('a_s')\n",
    "    li2 = [4,5,6]\n",
    "    return li2\n",
    "\n",
    "\n",
    "# print(f'[{h_s()[0]}:{a_s()[0]}]')\n",
    "# print(f'[{h_s()[1]}:{a_s()[1]}]')\n",
    "# print(f'[{h_s()[2]}:{a_s()[2]}]')\n",
    "\n",
    "h1 = h_s()\n",
    "a1 = a_s()\n",
    "\n",
    "print(f'[{h1[0]}:{a1[0]}]')\n",
    "print(f'[{h1[1]}:{a1[1]}]')\n",
    "print(f'[{h1[2]}:{a1[2]}]')\n"
   ]
  },
  {
   "cell_type": "code",
   "execution_count": null,
   "id": "7911abda",
   "metadata": {},
   "outputs": [],
   "source": []
  },
  {
   "cell_type": "code",
   "execution_count": null,
   "id": "64a93196",
   "metadata": {},
   "outputs": [],
   "source": []
  },
  {
   "cell_type": "code",
   "execution_count": null,
   "id": "12a98749",
   "metadata": {},
   "outputs": [],
   "source": []
  }
 ],
 "metadata": {
  "kernelspec": {
   "display_name": "Python 3 (ipykernel)",
   "language": "python",
   "name": "python3"
  },
  "language_info": {
   "codemirror_mode": {
    "name": "ipython",
    "version": 3
   },
   "file_extension": ".py",
   "mimetype": "text/x-python",
   "name": "python",
   "nbconvert_exporter": "python",
   "pygments_lexer": "ipython3",
   "version": "3.10.9"
  }
 },
 "nbformat": 4,
 "nbformat_minor": 5
}
