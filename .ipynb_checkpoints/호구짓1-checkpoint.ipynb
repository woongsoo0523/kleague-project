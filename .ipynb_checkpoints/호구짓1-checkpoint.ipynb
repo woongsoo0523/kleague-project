{
 "cells": [
  {
   "cell_type": "code",
   "execution_count": 12,
   "id": "b10b9a65",
   "metadata": {},
   "outputs": [
    {
     "name": "stdout",
     "output_type": "stream",
     "text": [
      "55.82\n",
      "점유율 \n",
      "44.18\n"
     ]
    },
    {
     "ename": "TypeError",
     "evalue": "'int' object is not subscriptable",
     "output_type": "error",
     "traceback": [
      "\u001b[1;31m---------------------------------------------------------------------------\u001b[0m",
      "\u001b[1;31mTypeError\u001b[0m                                 Traceback (most recent call last)",
      "Cell \u001b[1;32mIn[12], line 45\u001b[0m\n\u001b[0;32m     43\u001b[0m \u001b[38;5;28mprint\u001b[39m(myform\u001b[38;5;241m.\u001b[39mget_text(\u001b[38;5;124m'\u001b[39m\u001b[38;5;124mi\u001b[39m\u001b[38;5;124m'\u001b[39m)\u001b[38;5;241m.\u001b[39msplit(\u001b[38;5;124m'\u001b[39m\u001b[38;5;124mi\u001b[39m\u001b[38;5;124m'\u001b[39m)[\u001b[38;5;241m2\u001b[39m])\n\u001b[0;32m     44\u001b[0m \u001b[38;5;28mprint\u001b[39m(myform\u001b[38;5;241m.\u001b[39mget_text(\u001b[38;5;124m'\u001b[39m\u001b[38;5;124mi\u001b[39m\u001b[38;5;124m'\u001b[39m)\u001b[38;5;241m.\u001b[39msplit(\u001b[38;5;124m'\u001b[39m\u001b[38;5;124mi\u001b[39m\u001b[38;5;124m'\u001b[39m)[\u001b[38;5;241m3\u001b[39m])\n\u001b[1;32m---> 45\u001b[0m \u001b[43mscore\u001b[49m\u001b[43m(\u001b[49m\u001b[38;5;241;43m1\u001b[39;49m\u001b[43m)\u001b[49m\n\u001b[0;32m     49\u001b[0m chrome\u001b[38;5;241m.\u001b[39mback()\n\u001b[0;32m     50\u001b[0m time\u001b[38;5;241m.\u001b[39msleep(\u001b[38;5;241m1\u001b[39m)\n",
      "Cell \u001b[1;32mIn[12], line 28\u001b[0m, in \u001b[0;36mscore\u001b[1;34m(tr_list)\u001b[0m\n\u001b[0;32m     27\u001b[0m \u001b[38;5;28;01mdef\u001b[39;00m \u001b[38;5;21mscore\u001b[39m(tr_list): \u001b[38;5;66;03m#점수 가져오기\u001b[39;00m\n\u001b[1;32m---> 28\u001b[0m     btn \u001b[38;5;241m=\u001b[39m chrome\u001b[38;5;241m.\u001b[39mfind_element(by\u001b[38;5;241m=\u001b[39m\u001b[38;5;124m'\u001b[39m\u001b[38;5;124mxpath\u001b[39m\u001b[38;5;124m'\u001b[39m, value\u001b[38;5;241m=\u001b[39m\u001b[38;5;124mf\u001b[39m\u001b[38;5;124m'\u001b[39m\u001b[38;5;124m//*[@id=\u001b[39m\u001b[38;5;124m\"\u001b[39m\u001b[38;5;124mscheduleList\u001b[39m\u001b[38;5;124m\"\u001b[39m\u001b[38;5;124m]/tr[\u001b[39m\u001b[38;5;132;01m{\u001b[39;00mtr_list[\u001b[38;5;241m0\u001b[39m]\u001b[38;5;132;01m}\u001b[39;00m\u001b[38;5;124m]/td[7]/button[1]\u001b[39m\u001b[38;5;124m'\u001b[39m)\n\u001b[0;32m     29\u001b[0m     score \u001b[38;5;241m=\u001b[39m BeautifulSoup(response)\u001b[38;5;241m.\u001b[39mfind(\u001b[38;5;124m'\u001b[39m\u001b[38;5;124mdiv\u001b[39m\u001b[38;5;124m'\u001b[39m, {\u001b[38;5;124m'\u001b[39m\u001b[38;5;124mclass\u001b[39m\u001b[38;5;124m'\u001b[39m:\u001b[38;5;124m'\u001b[39m\u001b[38;5;124mscore campton\u001b[39m\u001b[38;5;124m'\u001b[39m})\n\u001b[0;32m     30\u001b[0m     \u001b[38;5;28mprint\u001b[39m(score\u001b[38;5;241m.\u001b[39mtext[\u001b[38;5;241m0\u001b[39m:\u001b[38;5;241m1\u001b[39m])\n",
      "\u001b[1;31mTypeError\u001b[0m: 'int' object is not subscriptable"
     ]
    }
   ],
   "source": [
    "from selenium.webdriver import Chrome\n",
    "from selenium.webdriver.common.by import By\n",
    "from selenium.webdriver.common.keys import Keys\n",
    "from bs4 import BeautifulSoup\n",
    "import time\n",
    "import re\n",
    "import requests\n",
    "\n",
    "chrome = Chrome()\n",
    "    \n",
    "time.sleep(3)\n",
    "url = \"https://www.kleague.com/club/club.do?teamId=K29\" # 수원FC \n",
    "chrome.get(url)\n",
    "\n",
    "num = [2,3,4,5,6,7,8,9,10]\n",
    "tr_list=[1,3]\n",
    "\n",
    "def year1(): #년도 선택\n",
    "    time.sleep(1)\n",
    "    year = chrome.find_element(by='xpath', value='//*[@id=\"year\"]/option[2]')\n",
    "    year.click()\n",
    "    \n",
    "def month1(num): # 날짜 선택\n",
    "    time.sleep(1)\n",
    "    month = chrome.find_element(by='xpath', value=f'//*[@id=\"month\"]/option[{num}]')\n",
    "    month.click()\n",
    "\n",
    "    \n",
    "\n",
    "year1()\n",
    "month1(num[0])\n",
    "time.sleep(1)\n",
    "btn = chrome.find_element(by='xpath', value=f'//*[@id=\"scheduleList\"]/tr[1]/td[7]/button[1]')\n",
    "btn.send_keys\n",
    "# 1라운드 왼쪽 전북 오른쪽 수원FC\n",
    "btn.click()\n",
    "response = chrome.page_source\n",
    "myform = BeautifulSoup(response).find('div', {'class':'btn-cont'})\n",
    "print(myform.get_text('i').split('i')[1]) # 점유율\n",
    "print(myform.get_text('i').split('i')[2])\n",
    "print(myform.get_text('i').split('i')[3])\n",
    "\n",
    "\n",
    "\n",
    "\n",
    "chrome.back()\n",
    "time.sleep(1)\n",
    "chrome.refresh()\n",
    "\n",
    "\n"
   ]
  },
  {
   "cell_type": "code",
   "execution_count": 8,
   "id": "c59d1c22",
   "metadata": {},
   "outputs": [
    {
     "name": "stdout",
     "output_type": "stream",
     "text": [
      "<class 'list'>\n",
      "42.65\n",
      "점유율 \n",
      "57.35\n"
     ]
    }
   ],
   "source": [
    "# 2라운드 왼쪽 수원 오른쪽 수원FC\n",
    "year1(url)\n",
    "month1(num[0])\n",
    "time.sleep(1)\n",
    "btn = chrome.find_element(by='xpath', value=f'//*[@id=\"scheduleList\"]/tr[3]/td[7]/button[1]')\n",
    "btn.click()\n",
    "response = chrome.page_source\n",
    "myform = BeautifulSoup(response).find('div', {'class':'btn-cont'})\n",
    "print(type(myform.get_text('i').split('i')))\n",
    "print(myform.get_text('i').split('i')[1])\n",
    "print(myform.get_text('i').split('i')[2])\n",
    "print(myform.get_text('i').split('i')[3])"
   ]
  },
  {
   "cell_type": "code",
   "execution_count": null,
   "id": "db24a02e",
   "metadata": {},
   "outputs": [],
   "source": []
  },
  {
   "cell_type": "code",
   "execution_count": null,
   "id": "3fe22ddd",
   "metadata": {},
   "outputs": [],
   "source": []
  }
 ],
 "metadata": {
  "kernelspec": {
   "display_name": "Python 3 (ipykernel)",
   "language": "python",
   "name": "python3"
  },
  "language_info": {
   "codemirror_mode": {
    "name": "ipython",
    "version": 3
   },
   "file_extension": ".py",
   "mimetype": "text/x-python",
   "name": "python",
   "nbconvert_exporter": "python",
   "pygments_lexer": "ipython3",
   "version": "3.10.9"
  }
 },
 "nbformat": 4,
 "nbformat_minor": 5
}
